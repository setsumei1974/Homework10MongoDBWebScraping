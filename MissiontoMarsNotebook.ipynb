{
 "cells": [
  {
   "cell_type": "code",
   "execution_count": 5,
   "metadata": {},
   "outputs": [],
   "source": [
    "import pandas as pd\n",
    "from splinter import Browser\n",
    "import requests\n",
    "from bs4 import BeautifulSoup"
   ]
  },
  {
   "cell_type": "code",
   "execution_count": 6,
   "metadata": {},
   "outputs": [],
   "source": [
    "mars_omnibus = {}"
   ]
  },
  {
   "cell_type": "markdown",
   "metadata": {},
   "source": [
    "### News about Mars from Nasa ###"
   ]
  },
  {
   "cell_type": "code",
   "execution_count": 8,
   "metadata": {},
   "outputs": [
    {
     "name": "stdout",
     "output_type": "stream",
     "text": [
      "{'title': \"Mars InSight's 'Mole' Is Moving Again\", 'paragraph': \"The NASA lander's robotic arm seems to have helped its heat probe burrow almost 2 centimeters (3/4 of an inch) since last week.\"}\n",
      "Mars InSight's 'Mole' Is Moving Again\n",
      "The NASA lander's robotic arm seems to have helped its heat probe burrow almost 2 centimeters (3/4 of an inch) since last week.\n"
     ]
    }
   ],
   "source": [
    "#Create an Executable Path to Chromedriver.exe and Select the Browser to Use with Splinter\n",
    "executable_path = {\"executable_path\": \"chromedriver.exe\"}\n",
    "browser = Browser(\"chrome\", **executable_path, headless=False)\n",
    "\n",
    "#Use Browser from Splinter to Visit the Site of Nasa\n",
    "mars_news_url = \"https://mars.nasa.gov/news/\"\n",
    "browser.visit(mars_news_url)\n",
    "\n",
    "#Parse the Site and Create an Object with Beautiful Soup\n",
    "soup = BeautifulSoup(browser.html, \"html.parser\")\n",
    "#print(type(soup))\n",
    "\n",
    "#Use BeautifulSoup to Navigate through the HTML of the Site to Locate Title and Paragraph\n",
    "news_title = soup.find(\"div\", class_=\"content_title\").text\n",
    "news_paragraph = soup.find(\"div\", class_=\"article_teaser_body\").text\n",
    "\n",
    "mars_omnibus[\"title\"] = news_title\n",
    "mars_omnibus[\"paragraph\"] = news_paragraph\n",
    "\n",
    "print(mars_omnibus)\n",
    "\n",
    "print(news_title)\n",
    "print(news_paragraph)"
   ]
  },
  {
   "cell_type": "markdown",
   "metadata": {},
   "source": [
    "### Image of Mars from Jet Propulsion Laboratory ###"
   ]
  },
  {
   "cell_type": "code",
   "execution_count": 9,
   "metadata": {},
   "outputs": [
    {
     "name": "stdout",
     "output_type": "stream",
     "text": [
      "{'title': \"Mars InSight's 'Mole' Is Moving Again\", 'paragraph': \"The NASA lander's robotic arm seems to have helped its heat probe burrow almost 2 centimeters (3/4 of an inch) since last week.\", 'image': 'https://www.jpl.nasa.gov/spaceimages/images/wallpaper/PIA23379-640x350.jpg'}\n",
      "https://www.jpl.nasa.gov/spaceimages/images/wallpaper/PIA23379-640x350.jpg\n"
     ]
    }
   ],
   "source": [
    "#Create an Executable Path to Chromedriver.exe and Select the Browser to Use with Splinter\n",
    "executable_path = {\"executable_path\": \"chromedriver.exe\"}\n",
    "browser = Browser(\"chrome\", **executable_path, headless=False)\n",
    "\n",
    "#Use Browser from Splinter to Visit the Site of Jet Propulsion Laboratory\n",
    "mars_image_url = \"https://www.jpl.nasa.gov/spaceimages/?search=&category=Mars\"\n",
    "browser.visit(mars_image_url)\n",
    "\n",
    "#Parse the Site and Create an Object with Beautiful Soup\n",
    "soup = BeautifulSoup(browser.html, \"html.parser\")\n",
    "#print(type(soup))\n",
    "\n",
    "#Use BeautifulSoup to Navigate through the HTML of the Site to Locate the Featured Image\n",
    "featured_image_location = soup.find(\"img\", class_=\"thumb\")[\"src\"]\n",
    "featured_image_url = \"https://www.jpl.nasa.gov\" + featured_image_location\n",
    "\n",
    "mars_omnibus[\"image\"] = featured_image_url\n",
    "\n",
    "print(mars_omnibus)\n",
    "\n",
    "print(featured_image_url)"
   ]
  },
  {
   "cell_type": "markdown",
   "metadata": {},
   "source": [
    "### Weather on Mars from Twitter ###"
   ]
  },
  {
   "cell_type": "code",
   "execution_count": 10,
   "metadata": {},
   "outputs": [
    {
     "name": "stdout",
     "output_type": "stream",
     "text": [
      "InSight sol 314 (2019-10-15) low -102.8ºC (-153.0ºF) high -24.8ºC (-12.6ºF)\n",
      "winds from the SSE at 4.9 m/s (11.1 mph) gusting to 19.7 m/s (44.0 mph)\n",
      "pressure at 7.20 hPapic.twitter.com/VONawbIeG4\n",
      "{'title': \"Mars InSight's 'Mole' Is Moving Again\", 'paragraph': \"The NASA lander's robotic arm seems to have helped its heat probe burrow almost 2 centimeters (3/4 of an inch) since last week.\", 'image': 'https://www.jpl.nasa.gov/spaceimages/images/wallpaper/PIA23379-640x350.jpg', 'weather': 'InSight sol 314 (2019-10-15) low -102.8ºC (-153.0ºF) high -24.8ºC (-12.6ºF)\\nwinds from the SSE at 4.9 m/s (11.1 mph) gusting to 19.7 m/s (44.0 mph)\\npressure at 7.20 hPapic.twitter.com/VONawbIeG4'}\n"
     ]
    }
   ],
   "source": [
    "#Create an Executable Path to Chromedriver.exe and Select the Browser to Use with Splinter\n",
    "executable_path = {\"executable_path\": \"chromedriver.exe\"}\n",
    "browser = Browser(\"chrome\", **executable_path, headless=False)\n",
    "\n",
    "#Use Browser from Splinter to Visit the Site for Mars on Twitter\n",
    "mars_weather_url = \"https://twitter.com/marswxreport?lang=en\"\n",
    "browser.visit(mars_weather_url)\n",
    "\n",
    "#Parse the Site and Create an Object with Beautiful Soup\n",
    "soup = BeautifulSoup(browser.html, \"html.parser\")\n",
    "#print(type(soup))\n",
    "\n",
    "#Use BeautifulSoup to Navigate through the HTML of the Site to Locate the Tweet on Weather\n",
    "tweets = soup.find_all(\"div\", class_=\"js-tweet-text-container\")\n",
    "\n",
    "for tweet in tweets:\n",
    "    mars_weather = tweet.find(\"p\").text\n",
    "    if \"Sol\" and \"pressure\" in mars_weather:\n",
    "        print(mars_weather)\n",
    "        break\n",
    "    else:\n",
    "        pass\n",
    "    \n",
    "mars_omnibus[\"weather\"] = mars_weather\n",
    "\n",
    "print(mars_omnibus)"
   ]
  },
  {
   "cell_type": "markdown",
   "metadata": {},
   "source": [
    "### Facts about Mars from Space Facts ###"
   ]
  },
  {
   "cell_type": "code",
   "execution_count": 11,
   "metadata": {},
   "outputs": [
    {
     "name": "stdout",
     "output_type": "stream",
     "text": [
      "                               Mars            Earth\n",
      "Values                                              \n",
      "Diameter:                  6,779 km        12,742 km\n",
      "Mass:               6.39 × 10^23 kg  5.97 × 10^24 kg\n",
      "Moons:                            2                1\n",
      "Distance from Sun:   227,943,824 km   149,598,262 km\n",
      "Length of Year:      687 Earth days      365.24 days\n",
      "Temperature:          -153 to 20 °C      -88 to 58°C\n",
      "{'title': \"Mars InSight's 'Mole' Is Moving Again\", 'paragraph': \"The NASA lander's robotic arm seems to have helped its heat probe burrow almost 2 centimeters (3/4 of an inch) since last week.\", 'image': 'https://www.jpl.nasa.gov/spaceimages/images/wallpaper/PIA23379-640x350.jpg', 'weather': 'InSight sol 314 (2019-10-15) low -102.8ºC (-153.0ºF) high -24.8ºC (-12.6ºF)\\nwinds from the SSE at 4.9 m/s (11.1 mph) gusting to 19.7 m/s (44.0 mph)\\npressure at 7.20 hPapic.twitter.com/VONawbIeG4', 'facts': '<table border=\"1\" class=\"dataframe\">\\n  <tbody>\\n    <tr>\\n      <td>6,779 km</td>\\n      <td>12,742 km</td>\\n    </tr>\\n    <tr>\\n      <td>6.39 × 10^23 kg</td>\\n      <td>5.97 × 10^24 kg</td>\\n    </tr>\\n    <tr>\\n      <td>2</td>\\n      <td>1</td>\\n    </tr>\\n    <tr>\\n      <td>227,943,824 km</td>\\n      <td>149,598,262 km</td>\\n    </tr>\\n    <tr>\\n      <td>687 Earth days</td>\\n      <td>365.24 days</td>\\n    </tr>\\n    <tr>\\n      <td>-153 to 20 °C</td>\\n      <td>-88 to 58°C</td>\\n    </tr>\\n  </tbody>\\n</table>'}\n",
      "<table border=\"1\" class=\"dataframe\">\n",
      "  <tbody>\n",
      "    <tr>\n",
      "      <td>6,779 km</td>\n",
      "      <td>12,742 km</td>\n",
      "    </tr>\n",
      "    <tr>\n",
      "      <td>6.39 × 10^23 kg</td>\n",
      "      <td>5.97 × 10^24 kg</td>\n",
      "    </tr>\n",
      "    <tr>\n",
      "      <td>2</td>\n",
      "      <td>1</td>\n",
      "    </tr>\n",
      "    <tr>\n",
      "      <td>227,943,824 km</td>\n",
      "      <td>149,598,262 km</td>\n",
      "    </tr>\n",
      "    <tr>\n",
      "      <td>687 Earth days</td>\n",
      "      <td>365.24 days</td>\n",
      "    </tr>\n",
      "    <tr>\n",
      "      <td>-153 to 20 °C</td>\n",
      "      <td>-88 to 58°C</td>\n",
      "    </tr>\n",
      "  </tbody>\n",
      "</table>\n"
     ]
    }
   ],
   "source": [
    "#Create an Executable Path to Chromedriver.exe and Select the Browser to Use with Splinter\n",
    "executable_path = {\"executable_path\": \"chromedriver.exe\"}\n",
    "browser = Browser(\"chrome\", **executable_path, headless=False)\n",
    "\n",
    "#Use Browser from Splinter to Visit the Site of Space Facts\n",
    "mars_facts_url = \"https://space-facts.com/mars/\"\n",
    "browser.visit(mars_facts_url)\n",
    "\n",
    "#Use the .read_html() Function of Pandas to Read the HTML Code of the Site\n",
    "mars_facts_read = pd.read_html(mars_facts_url)\n",
    "\n",
    "#Use Pandas to Create a Dataframe\n",
    "mars_facts_df = pd.DataFrame(mars_facts_read[0])\n",
    "\n",
    "#Organize the Dataframe, Name Columns, and Set the Index\n",
    "mars_facts_df.columns = [\"Values\", \"Mars\", \"Earth\"]\n",
    "mars_facts_df.set_index(\"Values\", inplace=True)\n",
    "print(mars_facts_df)\n",
    "\n",
    "#Use the .to_html() Function of Pandas to Convert the Dataframe to HTML Code\n",
    "mars_facts_html = mars_facts_df.to_html(header = False, index = False)\n",
    "\n",
    "mars_omnibus[\"facts\"] = mars_facts_html\n",
    "\n",
    "print(mars_omnibus)\n",
    "\n",
    "print(mars_facts_html)"
   ]
  },
  {
   "cell_type": "markdown",
   "metadata": {},
   "source": [
    "### Hemispheres of Mars from Astrogeology ###"
   ]
  },
  {
   "cell_type": "code",
   "execution_count": 12,
   "metadata": {},
   "outputs": [
    {
     "name": "stdout",
     "output_type": "stream",
     "text": [
      "{'title': \"Mars InSight's 'Mole' Is Moving Again\", 'paragraph': \"The NASA lander's robotic arm seems to have helped its heat probe burrow almost 2 centimeters (3/4 of an inch) since last week.\", 'image': 'https://www.jpl.nasa.gov/spaceimages/images/wallpaper/PIA23379-640x350.jpg', 'weather': 'InSight sol 314 (2019-10-15) low -102.8ºC (-153.0ºF) high -24.8ºC (-12.6ºF)\\nwinds from the SSE at 4.9 m/s (11.1 mph) gusting to 19.7 m/s (44.0 mph)\\npressure at 7.20 hPapic.twitter.com/VONawbIeG4', 'facts': '<table border=\"1\" class=\"dataframe\">\\n  <tbody>\\n    <tr>\\n      <td>6,779 km</td>\\n      <td>12,742 km</td>\\n    </tr>\\n    <tr>\\n      <td>6.39 × 10^23 kg</td>\\n      <td>5.97 × 10^24 kg</td>\\n    </tr>\\n    <tr>\\n      <td>2</td>\\n      <td>1</td>\\n    </tr>\\n    <tr>\\n      <td>227,943,824 km</td>\\n      <td>149,598,262 km</td>\\n    </tr>\\n    <tr>\\n      <td>687 Earth days</td>\\n      <td>365.24 days</td>\\n    </tr>\\n    <tr>\\n      <td>-153 to 20 °C</td>\\n      <td>-88 to 58°C</td>\\n    </tr>\\n  </tbody>\\n</table>', 'hemispheres': [{'title': 'Cerberus Hemisphere ', 'img_url': 'http://astropedia.astrogeology.usgs.gov/download/Mars/Viking/cerberus_enhanced.tif/full.jpg'}, {'title': 'Schiaparelli Hemisphere ', 'img_url': 'http://astropedia.astrogeology.usgs.gov/download/Mars/Viking/schiaparelli_enhanced.tif/full.jpg'}, {'title': 'Syrtis Major Hemisphere ', 'img_url': 'http://astropedia.astrogeology.usgs.gov/download/Mars/Viking/syrtis_major_enhanced.tif/full.jpg'}, {'title': 'Valles Marineris Hemisphere ', 'img_url': 'http://astropedia.astrogeology.usgs.gov/download/Mars/Viking/valles_marineris_enhanced.tif/full.jpg'}]}\n",
      "[{'title': 'Cerberus Hemisphere ', 'img_url': 'http://astropedia.astrogeology.usgs.gov/download/Mars/Viking/cerberus_enhanced.tif/full.jpg'}, {'title': 'Schiaparelli Hemisphere ', 'img_url': 'http://astropedia.astrogeology.usgs.gov/download/Mars/Viking/schiaparelli_enhanced.tif/full.jpg'}, {'title': 'Syrtis Major Hemisphere ', 'img_url': 'http://astropedia.astrogeology.usgs.gov/download/Mars/Viking/syrtis_major_enhanced.tif/full.jpg'}, {'title': 'Valles Marineris Hemisphere ', 'img_url': 'http://astropedia.astrogeology.usgs.gov/download/Mars/Viking/valles_marineris_enhanced.tif/full.jpg'}]\n"
     ]
    }
   ],
   "source": [
    "#Create an Executable Path to Chromedriver.exe and Select the Browser to Use with Splinter\n",
    "executable_path = {\"executable_path\": \"chromedriver.exe\"}\n",
    "browser = Browser(\"chrome\", **executable_path, headless=False)\n",
    "\n",
    "#Use Browser from Splinter to Visit the Site of Astrogeology\n",
    "mars_hemispheres_url = \"https://astrogeology.usgs.gov/search/results?q=hemisphere+enhanced&k1=target&v1=Mars\"\n",
    "browser.visit(mars_hemispheres_url)\n",
    "\n",
    "#Parse the Site and Create an Object with Beautiful Soup\n",
    "soup = BeautifulSoup(browser.html, \"html.parser\")\n",
    "#print(type(soup))\n",
    "\n",
    "#Create an Empty Loop to Contain the Output of a For-Loop\n",
    "mars_hemispheres = []\n",
    "\n",
    "products = soup.find(\"div\", class_=\"result-list\")\n",
    "hemispheres = products.find_all(\"div\", class_=\"item\")\n",
    "\n",
    "for hemisphere in hemispheres:\n",
    "    title = hemisphere.find(\"h3\").text\n",
    "    title = title.replace(\"Enhanced\", \"\")\n",
    "    end_link = hemisphere.find(\"a\")[\"href\"]\n",
    "    image_link = \"https://astrogeology.usgs.gov/\" + end_link    \n",
    "    browser.visit(image_link)\n",
    "    soup = BeautifulSoup(browser.html, \"html.parser\")\n",
    "    downloads = soup.find(\"div\", class_=\"downloads\")\n",
    "    image_url = downloads.find(\"a\")[\"href\"]\n",
    "    mars_hemispheres.append({\"title\": title, \"img_url\": image_url})\n",
    "    \n",
    "mars_omnibus[\"hemispheres\"] = mars_hemispheres\n",
    "\n",
    "print(mars_omnibus)\n",
    "    \n",
    "print(mars_hemispheres)"
   ]
  }
 ],
 "metadata": {
  "kernelspec": {
   "display_name": "Python [conda env:pandas] *",
   "language": "python",
   "name": "conda-env-pandas-py"
  },
  "language_info": {
   "codemirror_mode": {
    "name": "ipython",
    "version": 3
   },
   "file_extension": ".py",
   "mimetype": "text/x-python",
   "name": "python",
   "nbconvert_exporter": "python",
   "pygments_lexer": "ipython3",
   "version": "3.6.8"
  }
 },
 "nbformat": 4,
 "nbformat_minor": 2
}
